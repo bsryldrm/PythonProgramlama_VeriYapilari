{
 "cells": [
  {
   "cell_type": "markdown",
   "metadata": {},
   "source": [
    " Önce herhangi bir özel şekilde yapılanmamış olan düz metin dosyalarını işlemeyi göreceğiz. Ardından _csv_ modülüyle CSV biçiminde yapılanmış dosyaları okuyup yazmayı inceleyeceğiz. JSON, ZIP, PDF, Word, Excel, HTML dosyalarının işlenmesine kısaca değineceğiz. Son olarak, Python oturumunda yarattığımız nesneleri ikili (binary) formda dosyaya kaydetmemizi ve sonra dosyadan tekrar yüklememizi sağlayan _pickle_ modülünün kullanımını özetleyeceğiz.\n"
   ]
  },
  {
   "cell_type": "markdown",
   "metadata": {},
   "source": [
    "Genel dosya okuma/yazma\n",
    "===\n",
    "Dosya okumak\n",
    "---\n",
    "Öncelikle, IPython sihirleriyle _deneme.txt_ isimli bir dosya yaratalım (Jupyter kullanmıyorsanız aşağıdaki metni bir metin editörüne kopyalayıp _deneme.txt_ ismiyle çalışma dizininize kaydedebilirsiniz)."
   ]
  },
  {
   "cell_type": "code",
   "execution_count": 1,
   "metadata": {},
   "outputs": [
    {
     "name": "stdout",
     "output_type": "stream",
     "text": [
      "Writing deneme.txt\n"
     ]
    }
   ],
   "source": [
    "%%writefile deneme.txt\n",
    "Ey Türk Gençliği!\n",
    "Birinci vazifen, \n",
    "Türk istiklâlini, Türk Cumhuriyeti'ni, \n",
    "ilelebet muhafaza ve müdafaa etmektir."
   ]
  },
  {
   "cell_type": "markdown",
   "metadata": {},
   "source": [
    "Bir dosyayı açmak için `open()` fonksiyonunu kullanırız. En basit halinde `open()` mevcut bir metin dosyasını okumak için açar ve bir dosya nesnesi döndürür."
   ]
  },
  {
   "cell_type": "code",
   "execution_count": 2,
   "metadata": {},
   "outputs": [],
   "source": [
    "f = open(\"deneme.txt\")"
   ]
  },
  {
   "cell_type": "markdown",
   "metadata": {},
   "source": [
    "Dosya nesnesinin `read()` metodu dosya içeriğini tek bir dize halinde döndürür."
   ]
  },
  {
   "cell_type": "code",
   "execution_count": 3,
   "metadata": {},
   "outputs": [
    {
     "data": {
      "text/plain": [
       "\"Ey Türk Gençliği!\\nBirinci vazifen, \\nTürk istiklâlini, Türk Cumhuriyeti'ni, \\nilelebet muhafaza ve müdafaa etmektir.\""
      ]
     },
     "execution_count": 3,
     "metadata": {},
     "output_type": "execute_result"
    }
   ],
   "source": [
    "f.read()"
   ]
  },
  {
   "cell_type": "markdown",
   "metadata": {},
   "source": [
    "Açılmış dosyalarla işimiz bittiğinde kapatmamız gerekir, yoksa bellekte birikip yer işgal edebilirler."
   ]
  },
  {
   "cell_type": "code",
   "execution_count": 4,
   "metadata": {},
   "outputs": [],
   "source": [
    "f.close()"
   ]
  },
  {
   "cell_type": "markdown",
   "metadata": {},
   "source": [
    "`readlines()` metodu, satırlardan oluşan bir liste döndürür:"
   ]
  },
  {
   "cell_type": "code",
   "execution_count": 5,
   "metadata": {},
   "outputs": [
    {
     "data": {
      "text/plain": [
       "['Ey Türk Gençliği!\\n',\n",
       " 'Birinci vazifen, \\n',\n",
       " \"Türk istiklâlini, Türk Cumhuriyeti'ni, \\n\",\n",
       " 'ilelebet muhafaza ve müdafaa etmektir.']"
      ]
     },
     "execution_count": 5,
     "metadata": {},
     "output_type": "execute_result"
    }
   ],
   "source": [
    "f = open(\"deneme.txt\")\n",
    "f.readlines()"
   ]
  },
  {
   "cell_type": "code",
   "execution_count": 6,
   "metadata": {},
   "outputs": [],
   "source": [
    "f.close()"
   ]
  },
  {
   "cell_type": "markdown",
   "metadata": {},
   "source": [
    "Bir dosya nesnesi bir _iteratördür_; bütün dosyayı bir kerede belleğe yüklemez, ama talep geldikçe satırları birer birer verir. `readline()` metodu dosyadaki mevcut satırı okumak için kullanılır. Her yeni `readline()` çağrısı bir sonraki satırı getirir."
   ]
  },
  {
   "cell_type": "code",
   "execution_count": 7,
   "metadata": {},
   "outputs": [
    {
     "data": {
      "text/plain": [
       "'Ey Türk Gençliği!\\n'"
      ]
     },
     "execution_count": 7,
     "metadata": {},
     "output_type": "execute_result"
    }
   ],
   "source": [
    "f = open(\"deneme.txt\")\n",
    "f.readline()"
   ]
  },
  {
   "cell_type": "code",
   "execution_count": 8,
   "metadata": {},
   "outputs": [
    {
     "data": {
      "text/plain": [
       "'Birinci vazifen, \\n'"
      ]
     },
     "execution_count": 8,
     "metadata": {},
     "output_type": "execute_result"
    }
   ],
   "source": [
    "f.readline()"
   ]
  },
  {
   "cell_type": "markdown",
   "metadata": {},
   "source": [
    "Dosya nesnesi bir iteratör olduğu için `for` döngüsünde kullanılabilir. Bir dosyayı satır satır işlemek için şöyle bir döngü kurulur."
   ]
  },
  {
   "cell_type": "code",
   "execution_count": 9,
   "metadata": {},
   "outputs": [
    {
     "name": "stdout",
     "output_type": "stream",
     "text": [
      "TÜRK ISTIKLÂLINI, TÜRK CUMHURIYETI'NI, \n",
      "ILELEBET MUHAFAZA VE MÜDAFAA ETMEKTIR."
     ]
    }
   ],
   "source": [
    "for satır in f:\n",
    "    print(satır.upper(),end=\"\")\n",
    "f.close()"
   ]
  },
  {
   "cell_type": "markdown",
   "metadata": {},
   "source": [
    "with ... as\n",
    "---\n",
    "Yukarıda, dosyayı `open()` ile açtıktan sonra `close()` metoduyla kapatmak gerektiğini söyledik. Bu basit bir kural olsa da, karmaşık programlar içinde gözden kaçabiliyor. Dosya açma/kapama işlemini daha düzenli hale getirmek için Python programcıları _context manager_ denen bir yapı kullanırlar. Bir context manager oluşturmak için `with` komutu kullanılır."
   ]
  },
  {
   "cell_type": "code",
   "execution_count": 10,
   "metadata": {},
   "outputs": [
    {
     "name": "stdout",
     "output_type": "stream",
     "text": [
      "Ey Türk Gençliği!\n",
      "Birinci vazifen, \n",
      "Türk istiklâlini, Türk Cumhuriyeti'ni, \n",
      "ilelebet muhafaza ve müdafaa etmektir.\n"
     ]
    }
   ],
   "source": [
    "with open(\"deneme.txt\") as f:\n",
    "    print(f.read())"
   ]
  },
  {
   "cell_type": "markdown",
   "metadata": {},
   "source": [
    "Context manager ayrı ve geniş bir konudur, ayrıntısı için [Python belgelerine](https://docs.python.org/3/reference/compound_stmts.html#with) bakabilirsiniz. Bizim açımızdan önemli olan, burada `with` bloku bitince dosyanın otomatik olarak kapatılmasıdır. Dosyanın kapanmış olduğunu, dosya nesnesinin `closed` değişkeninin durumuyla kontrol edebiliriz."
   ]
  },
  {
   "cell_type": "code",
   "execution_count": 11,
   "metadata": {},
   "outputs": [
    {
     "data": {
      "text/plain": [
       "True"
      ]
     },
     "execution_count": 11,
     "metadata": {},
     "output_type": "execute_result"
    }
   ],
   "source": [
    "f.closed"
   ]
  },
  {
   "cell_type": "markdown",
   "metadata": {},
   "source": [
    "Dosyaya yazmak\n",
    "-----\n",
    "Bir dosyaya yazmak için `open()` fonksiyonunda `\"w\"` (write) modunu kullanırız."
   ]
  },
  {
   "cell_type": "code",
   "execution_count": 12,
   "metadata": {},
   "outputs": [],
   "source": [
    "f = open(\"deneme2.txt\", \"w\")"
   ]
  },
  {
   "cell_type": "markdown",
   "metadata": {},
   "source": [
    "Bu komutla, mevcut dizinde _deneme2.txt_ dosyası yoksa yaratılır, varsa mevcut içeriği silinip üstüne yeni veri yazılır. Açılan dosyaya bir dize yazmak için `write()` metodu kullanılır."
   ]
  },
  {
   "cell_type": "code",
   "execution_count": 13,
   "metadata": {},
   "outputs": [],
   "source": [
    "f.write(\"ABCDE\\n\")\n",
    "f.write(\"123456\\n\")\n",
    "f.write(\"wxyz\\n\")\n",
    "f.close()"
   ]
  },
  {
   "cell_type": "markdown",
   "metadata": {},
   "source": [
    "Dosyayı açarak, veya `%cat` sihirini kullanarak içeriğine bakabiliriz."
   ]
  },
  {
   "cell_type": "code",
   "execution_count": 14,
   "metadata": {},
   "outputs": [
    {
     "name": "stdout",
     "output_type": "stream",
     "text": [
      "ABCDE\n",
      "123456\n",
      "wxyz\n"
     ]
    }
   ],
   "source": [
    "%cat deneme2.txt"
   ]
  },
  {
   "cell_type": "markdown",
   "metadata": {},
   "source": [
    "Aynısını bir context manager ile de yapabiliriz:"
   ]
  },
  {
   "cell_type": "code",
   "execution_count": 15,
   "metadata": {},
   "outputs": [],
   "source": [
    "with open(\"deneme2.txt\", \"w\") as f:\n",
    "    f.write(\"ABCDE\\n\")\n",
    "    f.write(\"123456\\n\")\n",
    "    f.write(\"wxyz\\n\")"
   ]
  },
  {
   "cell_type": "markdown",
   "metadata": {},
   "source": [
    "Dosyada mevcut bulunan verileri silmeden, yeni verilerin dosyanın altına eklenmesini istersek dosyayı `\"a\"` (append) modunda açmalıyız."
   ]
  },
  {
   "cell_type": "code",
   "execution_count": 16,
   "metadata": {},
   "outputs": [],
   "source": [
    "with open(\"deneme2.txt\", \"a\") as f:\n",
    "    f.write(\"Yeni satır 1\\n\")\n",
    "    f.write(\"Yeni satır 2\\n\")"
   ]
  },
  {
   "cell_type": "code",
   "execution_count": 17,
   "metadata": {},
   "outputs": [
    {
     "name": "stdout",
     "output_type": "stream",
     "text": [
      "ABCDE\n",
      "123456\n",
      "wxyz\n",
      "Yeni satır 1\n",
      "Yeni satır 2\n"
     ]
    }
   ],
   "source": [
    "%cat deneme2.txt"
   ]
  },
  {
   "cell_type": "markdown",
   "metadata": {},
   "source": [
    "CSV dosya biçimi\n",
    "=====\n",
    " \n",
    "Bir çok veri dosyasında veriler tablo halinde, her satırda bir _kayıt_ ve her sütunda o kayda ait bir _alan_ olacak şekilde düzenlenmişlerdir. Alanlar birbirlerinden boşlukla, virgülle, veya başka bir karakterle ayrılabilir. Bu tür bir dosya düzenine CSV (comma-separated values, virgülle ayrılmış değerler) adı verilir. CSV biçimindeki dosyaları okumak için yukarıda açıkladığımız genel yöntemleri kullanmak mümkünse de, Python'un `csv` modülü işleri basitleştirir. Sözgelişi MS Excel ve benzeri bir hesap tablosunu CSV biçiminde kaydedip, verileri Python ile okuyabilirsiniz; veya Python'la üretilen verileri CSV dosyası olarak kaydedip hesap tablosu uygulamasıyla açabilirsiniz.\n",
    "\n",
    "CSV okuma\n",
    "-----\n",
    "Önce bir örnek veri dosyası hazırlayalım."
   ]
  },
  {
   "cell_type": "code",
   "execution_count": 18,
   "metadata": {},
   "outputs": [
    {
     "name": "stdout",
     "output_type": "stream",
     "text": [
      "Overwriting ornek.csv\n"
     ]
    }
   ],
   "source": [
    "%%writefile ornek.csv\n",
    "\"Potter, H\",37,\"Londra, İngiltere\"\n",
    "\"Granger, H\",36,\"Sydney, Avustralya\"\n",
    "\"Weasley, Bill\",45,\"Bükreş, Romanya\""
   ]
  },
  {
   "cell_type": "markdown",
   "metadata": {},
   "source": [
    "Bu örnekte isim ve adres alanı değerlerinin tırnak içinde yazıldığına dikkat edin. Eğer tırnak kullanılmasaydı, alanları virgülle ayırma kuralı bize `\"Potter\"`, `\"H\"`, `37`, `\"Londra\"`, `\"İngiltere\"` gibi beş ayrı alan verirdi. \n",
    "\n",
    "Bir CSV dosyasını açtıktan sonra, `csv` modülündeki `reader()` fonksiyonunu kullanarak onu satır satır okuyacak bir iteratör nesnesi yaratırız. Sonra bu iteratör nesnesi üzerinde bir döngüyle dosyayı tarayabiliriz."
   ]
  },
  {
   "cell_type": "code",
   "execution_count": 19,
   "metadata": {},
   "outputs": [
    {
     "name": "stdout",
     "output_type": "stream",
     "text": [
      "['Potter, H', '37', 'Londra, İngiltere']\n",
      "['Granger, H', '36', 'Sydney, Avustralya']\n",
      "['Weasley, Bill', '45', 'Bükreş, Romanya']\n"
     ]
    }
   ],
   "source": [
    "import csv\n",
    "with open(\"ornek.csv\") as f:\n",
    "    okur = csv.reader(f)\n",
    "    for satır in okur:\n",
    "        print(satır)"
   ]
  },
  {
   "cell_type": "markdown",
   "metadata": {},
   "source": [
    "Veya dosyamızda alan ayırıcı olarak boşluk karakteri, alan gruplama için bölü işareti (`/`) kullanılmış olabilir. Bu durumda `reader()` fonksiyonundaki `delimiter` ve `quotechar` parametrelerini değiştirerek dosyayı doğru şekilde alabiliriz."
   ]
  },
  {
   "cell_type": "code",
   "execution_count": 20,
   "metadata": {},
   "outputs": [
    {
     "name": "stdout",
     "output_type": "stream",
     "text": [
      "Overwriting ornek2.csv\n"
     ]
    }
   ],
   "source": [
    "%%writefile ornek2.csv\n",
    "/Potter, H/ 37 /Londra, İngiltere/\n",
    "/Granger, H/ 36 /Sydney, Avustralya/\n",
    "/Weasley, Bill/ 45 /Bükreş, Romanya/"
   ]
  },
  {
   "cell_type": "code",
   "execution_count": 21,
   "metadata": {},
   "outputs": [
    {
     "name": "stdout",
     "output_type": "stream",
     "text": [
      "['Potter, H', '37', 'Londra, İngiltere']\n",
      "['Granger, H', '36', 'Sydney, Avustralya']\n",
      "['Weasley, Bill', '45', 'Bükreş, Romanya']\n"
     ]
    }
   ],
   "source": [
    "with open(\"ornek2.csv\") as f:\n",
    "    okur = csv.reader(f, delimiter=\" \", quotechar=\"/\")\n",
    "    for satır in okur:\n",
    "        print(satır)"
   ]
  },
  {
   "cell_type": "markdown",
   "metadata": {},
   "source": [
    "Görüldüğü gibi, bir CSV dosyasında alan ayırma, gruplama, satır sonu karakterleri için farklı tercihler olabilir. Her bir tercih kümesine bir _lehçe_ (dialect) adı veriliyor. `csv.reader()` için varsayılan lehçe olan `\"excel\"`, MS Excel ile üretilen CSV dosyalarını okumaya ayarlıdır. Ancak yukarıda gördüğümüz gibi bu tercihler kolaylıkla değiştirilebilir.\n",
    "\n",
    "Eğer özel bir CSV biçimini sık sık kullanıyorsanız, o lehçeye özel bir `Dialect` nesnesi oluşturup `reader()` ile birlikte kullanabilirsiniz. Bunun ayrıntılarını [Python belgelerinden](https://docs.python.org/3/library/csv.html) öğrenebilirsiniz.\n",
    "\n",
    "CSV yazma\n",
    "---\n",
    "Elimizdeki verileri bir CSV dosyasına yazmak için önce `csv` modülünün `writer()` fonksiyonuyla bir yazıcı nesnesi yaratırız. Yazıcı nesnesi verilen veriyi kullanılan \"lehçe\"ye uygun şekilde bir dizeye dönüştürür ve dosyaya yazar. Yazılacak dosyayı `open()` ile açarken `newline=\"\"` parametresi vermemiz gerekir.\n",
    "\n",
    "Yazıcı nesnesinin `writerow()` metodu yazılacak satırı bir liste olarak alır."
   ]
  },
  {
   "cell_type": "code",
   "execution_count": 22,
   "metadata": {},
   "outputs": [],
   "source": [
    "with open(\"ornek3.csv\", \"w\", newline=\"\") as f:\n",
    "    yazıcı = csv.writer(f)\n",
    "    yazıcı.writerow(['Potter, H', '37', 'Londra, İngiltere'])\n",
    "    yazıcı.writerow(['Granger, H', '36', 'Sydney, Avustralya'])"
   ]
  },
  {
   "cell_type": "markdown",
   "metadata": {},
   "source": [
    "Dosyanın içeriğine bakarak doğru yazılıp yazılmadığını kontrol edelim:"
   ]
  },
  {
   "cell_type": "code",
   "execution_count": 23,
   "metadata": {},
   "outputs": [
    {
     "name": "stdout",
     "output_type": "stream",
     "text": [
      "\"Potter, H\",37,\"Londra, İngiltere\"\n",
      "\"Granger, H\",36,\"Sydney, Avustralya\"\n"
     ]
    }
   ],
   "source": [
    "%cat ornek3.csv"
   ]
  },
  {
   "cell_type": "markdown",
   "metadata": {},
   "source": [
    "Pandas ile CSV okuma\n",
    "---"
   ]
  },
  {
   "cell_type": "markdown",
   "metadata": {},
   "source": [
    "CSV dosyalarını veri analizi paketi _pandas_ ile de okumak ve yazmak mümkündür. Pandas ile CSV okumak hem daha basittir, hem de `csv` modülünde bulunmayan sözgelişi veri içindeki yorumları elemek, sadece istenen sütunları almak gibi ince ayarlara da imkan verir.\n",
    "\n",
    "Pandas'ın `read_csv()` fonksiyonu dosyanın içeriğini bir veri çerçevesi olarak okur; ardından bu veri çerçevesinden çeşitli satırlar veya sütunlar alınabilir. Pandas kullanımı bu notların kapsamı dışında olduğu için ayrıntıya girmiyorum."
   ]
  },
  {
   "cell_type": "markdown",
   "metadata": {},
   "source": [
    "Diğer dosya formatları\n",
    "====\n",
    "Birçok dosya biçimi için Python'da özelleşmiş kütüphaneler vardır. Bunların bazılarına değinelim.\n",
    "JSON\n",
    "----\n",
    "Birçok internet hizmeti API'si, sorgulama sonuçlarını JSON biçiminde bir dosya olarak verir (sözgelişi daha önce [Foursquare](http://www.veridefteri.com/2018/01/23/foursquare-api/), [Weather Underground](http://www.veridefteri.com/2018/03/22/weather-underground-api/) ve [Star Wars](http://www.veridefteri.com/2017/12/13/veri-defteri-ben-seviyor-cok/) API'lerini JSON verilerini incelemiştik). Python standart kütüphanesindeki `json` modülü, JSON biçimli bir dosyayı okuyup bir Python sözlük veya listesine dönüştüren, ve Python nesnelerinden JSON biçimli bir dosya oluşturan fonksiyonları içerir.\n",
    "\n",
    "[Mockaroo](https://www.mockaroo.com/) sitesini kullanarak yalancı veri içeren küçük bir JSON dosyası üretelim."
   ]
  },
  {
   "cell_type": "code",
   "execution_count": 24,
   "metadata": {},
   "outputs": [
    {
     "name": "stdout",
     "output_type": "stream",
     "text": [
      "Overwriting yalanci_veri.json\n"
     ]
    }
   ],
   "source": [
    "%%writefile yalanci_veri.json\n",
    "[{\n",
    "  \"id\": 1,\n",
    "  \"first_name\": \"Fredia\",\n",
    "  \"last_name\": \"Waith\",\n",
    "  \"email\": \"fwaith0@tamu.edu\"\n",
    "}, {\n",
    "  \"id\": 2,\n",
    "  \"first_name\": \"Rafaello\",\n",
    "  \"last_name\": \"Rowthorn\",\n",
    "  \"email\": \"rrowthorn1@stanford.edu\"\n",
    "}, {\n",
    "  \"id\": 3,\n",
    "  \"first_name\": \"Harriette\",\n",
    "  \"last_name\": \"Patters\",\n",
    "  \"email\": \"hpatters2@samsung.com\"\n",
    "}]"
   ]
  },
  {
   "cell_type": "markdown",
   "metadata": {},
   "source": [
    "Şimdi bu dosyayı açıp, içeriğini yorumlayalım ve bir Python nesnesine aktaralım."
   ]
  },
  {
   "cell_type": "code",
   "execution_count": 25,
   "metadata": {},
   "outputs": [],
   "source": [
    "import json\n",
    "with open(\"yalanci_veri.json\") as f:\n",
    "    yalanciveriler = json.load(f)"
   ]
  },
  {
   "cell_type": "markdown",
   "metadata": {},
   "source": [
    "Bu işlem sonucunda bir sözlükler listesi elde etmiş oluruz. Bilindik indeksleme işlemleriyle tek tek elemanlara ulaşabiliriz."
   ]
  },
  {
   "cell_type": "code",
   "execution_count": 26,
   "metadata": {},
   "outputs": [
    {
     "data": {
      "text/plain": [
       "('Rafaello', 'rrowthorn1@stanford.edu')"
      ]
     },
     "execution_count": 26,
     "metadata": {},
     "output_type": "execute_result"
    }
   ],
   "source": [
    "yalanciveriler[1][\"first_name\"], yalanciveriler[1][\"email\"]"
   ]
  },
  {
   "cell_type": "markdown",
   "metadata": {},
   "source": [
    "Şimdi JSON dosyası yazmayı görelim. Elimizdeki veriye bir satır daha ekleyelim ve nesnenin yeni halini `json.dump()` ile dosyaya yazalım."
   ]
  },
  {
   "cell_type": "code",
   "execution_count": 27,
   "metadata": {},
   "outputs": [],
   "source": [
    "yalanciveriler.append(\n",
    "{\n",
    "  \"id\": 4,\n",
    "  \"first_name\": \"Giffer\",\n",
    "  \"last_name\": \"Dur\",\n",
    "  \"email\": \"gdur2@cnbc.com\"\n",
    "})\n",
    "\n",
    "with open(\"yalanci_veri.json\", \"w\") as f:\n",
    "    json.dump(yalanciveriler,f)"
   ]
  },
  {
   "cell_type": "markdown",
   "metadata": {},
   "source": [
    "Dosyanın içeriğine bakarak beklediğimiz şekilde yazıldığını görebiliyoruz."
   ]
  },
  {
   "cell_type": "code",
   "execution_count": 28,
   "metadata": {},
   "outputs": [
    {
     "name": "stdout",
     "output_type": "stream",
     "text": [
      "[{\"id\": 1, \"first_name\": \"Fredia\", \"last_name\": \"Waith\", \"email\": \"fwaith0@tamu.edu\"}, {\"id\": 2, \"first_name\": \"Rafaello\", \"last_name\": \"Rowthorn\", \"email\": \"rrowthorn1@stanford.edu\"}, {\"id\": 3, \"first_name\": \"Harriette\", \"last_name\": \"Patters\", \"email\": \"hpatters2@samsung.com\"}, {\"id\": 4, \"first_name\": \"Giffer\", \"last_name\": \"Dur\", \"email\": \"gdur2@cnbc.com\"}]"
     ]
    }
   ],
   "source": [
    "%cat yalanci_veri.json"
   ]
  },
  {
   "cell_type": "markdown",
   "metadata": {},
   "source": [
    "HTML\n",
    "---\n",
    "HTML dosyaları zaten düz metinden oluştuğu için onları okumakta teknik bir zorluk yok. HTML işlemede asıl istenen şey _parsing_, yani çeşitli HTML elemanlarına erişebilmektir. Söz gelişi, bir HTML'deki bağlantıları almak, tablo veriyi okumak gibi işlemler yapmamız gerekebilir. Bu tür işlemler bu yazı dizisinin kapsamını aşıyor. İlgilenenler, en çok kullanılan araçlardan biri olan [_Beautiful Soup_ modülüyle](https://www.crummy.com/software/BeautifulSoup/bs4/doc/) denemeler yapabilirler.\n",
    "\n",
    "Excel\n",
    "---\n",
    "MS Excel dosyalarını CSV olarak kaydederseniz _CSV okuma/yazma_ kısmındaki yöntemleri kullanabilirsiniz. Bunu istemiyorsanız, veya tablodaki verileriniz bu işleme uygun değilse, veya birden fazla yapraktan oluşuyorsa, Excel dosyasını doğrudan açmak için [_xlrd_ modülünü](http://xlrd.readthedocs.io/en/latest/) kullanabilirsiniz.\n",
    "\n",
    "Daha geniş özelliklere sahip bir paket olan [_pyexcel_](http://pyexcel.readthedocs.io/en/latest/) ile hem okuma hem de yazmayı daha kolay işlemlerle yapabilirsiniz.\n",
    "\n",
    "_Pandas_ paketinin `read_excel()` fonksiyonu ile bir Excel dosyasını doğrudan okuyarak bir veri çerçevesi haline getirebilirsiniz. Kullanımına bir örnek görmek için [\"Groupby\" yazımıza](http://www.veridefteri.com/2017/10/30/groupby/) bakabilirsiniz. \n",
    "Word\n",
    "---\n",
    "MS Word belgelerinin içinden metin almak, belge yaratmak ve varolan belgeye içerik eklemek için [_python-docx_](https://python-docx.readthedocs.io/en/latest/index.html) modülü kullanılabilir. Örnekler için Al Sweigart'ın _Automate The Boring Stuff with Python_ [kitabına](https://automatetheboringstuff.com/chapter13/) bakabilirsiniz.\n",
    "\n",
    "PDF\n",
    "---\n",
    "PDF dosyalarından bilgi almak, PDF dosyası yaratmak, mevcut dosyada değişiklik yapmak gibi işler için [_pyPDF2_](https://pythonhosted.org/PyPDF2/) modülünü kullanabilirsiniz. Sweigart'ın _Automate The Boring Stuff with Python_ [kitabında] (https://automatetheboringstuff.com/chapter13/) bu modülün kullanımına dair açıklayıcı örnekler bulabilirsiniz.\n",
    "ZIP\n",
    "---\n",
    "Python standart kütüphanesindeki [_zipfile_ modülü](https://docs.python.org/3/library/zipfile.html), ZIP formatında sıkıştırma ve açma fonksiyonları sağlar.\n",
    "Basit bir örnek olarak, yukarıda kullandığımız _deneme.txt_ ve *yalanci_veri.json* dosyalarını sıkıştırarak bir arşiv dosyası oluşturalım."
   ]
  },
  {
   "cell_type": "code",
   "execution_count": 29,
   "metadata": {},
   "outputs": [],
   "source": [
    "import zipfile\n",
    "with zipfile.ZipFile(\"arsiv.zip\",\"w\") as z:\n",
    "    z.write(\"deneme.txt\")\n",
    "    z.write(\"yalanci_veri.json\")"
   ]
  },
  {
   "cell_type": "markdown",
   "metadata": {},
   "source": [
    "Mevcut bir arşive bir dosya eklemek istiyorsak, `ZipFile()` fonksiyonunun açılma modunu `\"w\"` yerine `\"a\"` yaparız.\n",
    "\n",
    "`ZipFile()` fonksiyonu, yukarıda gördüğümüz `open()` gibi çalışır. Arşivi açmak için `ZipFile()` fonksiyonunu okuma modunda kullanırız, ve arşiv dosyası nesnesine ait `open()` metoduyla dosyayı açarız. Açılan dosyanın içeriği `read()`, `readline()` veya `readlines()` metodlarıyla okunabilir. Bu metodlar kodlanmış dizeler döndürdüğü için `decode()` dize metoduyla Unicode'a çevrilmelidir."
   ]
  },
  {
   "cell_type": "code",
   "execution_count": 30,
   "metadata": {},
   "outputs": [
    {
     "name": "stdout",
     "output_type": "stream",
     "text": [
      "Ey Türk Gençliği!\n",
      "Birinci vazifen, \n",
      "Türk istiklâlini, Türk Cumhuriyeti'ni, \n",
      "ilelebet muhafaza ve müdafaa etmektir.\n"
     ]
    }
   ],
   "source": [
    "with zipfile.ZipFile('arsiv.zip') as z:\n",
    "    with z.open('deneme.txt') as f:\n",
    "        print(f.read().decode(\"utf-8\"))"
   ]
  },
  {
   "cell_type": "markdown",
   "metadata": {},
   "source": [
    "Bir ZIP arşivindeki bir dosyayı açarak diske kaydetmek için `extract()`, arşivdeki bütün dosyaları açmak için `extractall()` fonksiyonları kullanabiliriz."
   ]
  },
  {
   "cell_type": "markdown",
   "metadata": {},
   "source": [
    "Değişkenlerimizi kaydetmek: pickle\n",
    "====\n",
    "Bir oturumda hazırladığınız değişkenleri, oturumu kapattığınızda kaybetmemek isterseniz bunları ikili (binary) bir veri yapısı haline getirip diske kaydetmeniz gerekir. Bu işi standart kütüphanedeki [_pickle_ modülü](https://docs.python.org/3/library/pickle.html) ile yapabilirsiniz. Neredeyse bütün Python nesnelerini (kendi tanımladığımız nesne sınıfları dahil) dosyaya kaydetmeniz ve sonra tekrar okumanız mümkündür. Bu işleme _serialization_ adı verilir.\n",
    "\n",
    "Birkaç değişken tanımlayalım."
   ]
  },
  {
   "cell_type": "code",
   "execution_count": 34,
   "metadata": {},
   "outputs": [],
   "source": [
    "x = 3.14159\n",
    "L = [1,3,2,5,4]\n",
    "D = {\"abc\": 123, \"def\": 456}\n",
    "def fon(x):\n",
    "    return x*x"
   ]
  },
  {
   "cell_type": "markdown",
   "metadata": {},
   "source": [
    "Verileri kaydetmek istediğimiz dosyayı ikili yazma modunda açalım ve _pickle_ modülündeki `dump()` fonksiyonuyla değişkenleri dosyaya ekleyelim."
   ]
  },
  {
   "cell_type": "code",
   "execution_count": 35,
   "metadata": {},
   "outputs": [],
   "source": [
    "import pickle\n",
    "with open(\"data.p\", \"wb\") as f:\n",
    "    pickle.dump(x,f)\n",
    "    pickle.dump(L,f)\n",
    "    pickle.dump(D,f)\n",
    "    pickle.dump(fon,f)"
   ]
  },
  {
   "cell_type": "markdown",
   "metadata": {},
   "source": [
    "Değişkenleri dosyadan okumak için `load()` fonksiyonunu kullanırız. Nesneler dosyaya kondukları sırayla geri alınırlar. Değişkenlerin orijinal adını kullanmamız gerekmez."
   ]
  },
  {
   "cell_type": "code",
   "execution_count": 36,
   "metadata": {},
   "outputs": [
    {
     "name": "stdout",
     "output_type": "stream",
     "text": [
      "3.14159\n",
      "[1, 3, 2, 5, 4]\n",
      "{'abc': 123, 'def': 456}\n",
      "9.869587728099999\n"
     ]
    }
   ],
   "source": [
    "with open(\"data.p\", \"rb\") as f:\n",
    "    y = pickle.load(f)\n",
    "    print(y)\n",
    "    J = pickle.load(f)\n",
    "    print(J)\n",
    "    F = pickle.load(f)\n",
    "    print(F)\n",
    "    G = pickle.load(f)\n",
    "    print(G(y))"
   ]
  },
  {
   "cell_type": "markdown",
   "metadata": {},
   "source": [
    "Bazı nesneler _pickle_ ile kaydedilemezler; ağ bağlantıları, veri tabanı bağlantıları, açık dosya nesneleri gibi.\n",
    "\n",
    "Dikkat: _pickle_ işlemleri herhangi bir emniyet tedbiri içermez. Pickle dosyasının içindeki nesne `load()` ile doğrudan doğruya çalıştırılır. Bu nesnenin içinde kötü amaçlı bir kod parçası varsa sisteminize zarar gelebilir. Bu yüzden bilmediğiniz bir yerden gelen pickle dosyalarını açmayın. "
   ]
  }
 ],
 "metadata": {
  "kernelspec": {
   "display_name": "Python 3 (ipykernel)",
   "language": "python",
   "name": "python3"
  },
  "language_info": {
   "codemirror_mode": {
    "name": "ipython",
    "version": 3
   },
   "file_extension": ".py",
   "mimetype": "text/x-python",
   "name": "python",
   "nbconvert_exporter": "python",
   "pygments_lexer": "ipython3",
   "version": "3.9.18"
  }
 },
 "nbformat": 4,
 "nbformat_minor": 2
}
